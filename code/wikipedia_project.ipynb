{
  "nbformat": 4,
  "nbformat_minor": 0,
  "metadata": {
    "colab": {
      "provenance": [],
      "gpuType": "T4",
      "include_colab_link": true
    },
    "kernelspec": {
      "name": "python3",
      "display_name": "Python 3"
    },
    "language_info": {
      "name": "python"
    },
    "accelerator": "GPU"
  },
  "cells": [
    {
      "cell_type": "markdown",
      "metadata": {
        "id": "view-in-github",
        "colab_type": "text"
      },
      "source": [
        "<a href=\"https://colab.research.google.com/github/manikantapolaki/AI-Agent-Project/blob/main/code/wikipedia_project.ipynb\" target=\"_parent\"><img src=\"https://colab.research.google.com/assets/colab-badge.svg\" alt=\"Open In Colab\"/></a>"
      ]
    },
    {
      "cell_type": "code",
      "execution_count": null,
      "metadata": {
        "id": "oooOll7qJlv4"
      },
      "outputs": [],
      "source": [
        "!pip install wikipedia transformers pandas langdetect sentencepiece --quiet"
      ]
    },
    {
      "cell_type": "code",
      "source": [
        "from transformers import pipeline\n",
        "import wikipedia\n",
        "import pandas as pd\n",
        "from langdetect import detect, LangDetectException\n",
        "!pip install diffusers\n",
        "import torch\n",
        "from diffusers import DiffusionPipeline\n",
        "import os\n",
        "\n",
        "import requests\n",
        "\n",
        "\n",
        "gen = DiffusionPipeline.from_pretrained(\"runwayml/stable-diffusion-v1-5\")\n",
        "gen.to(\"cuda\")\n",
        "\n",
        "summarizer = None\n",
        "try:\n",
        "    summarizer = pipeline(\"summarization\", model=\"sshleifer/distilbart-cnn-12-6\")\n",
        "except Exception:\n",
        "    try:\n",
        "        summarizer = pipeline(\"summarization\", model=\"t5-small\")\n",
        "    except Exception:\n",
        "        pass\n",
        "\n",
        "translator_en_to_target = None\n",
        "try:\n",
        "    translator_en_to_target = pipeline(\"translation\", model=\"Helsinki-NLP/opus-mt-en-hi\")\n",
        "except Exception:\n",
        "    pass"
      ],
      "metadata": {
        "id": "UTdsUxx3GKE0"
      },
      "execution_count": null,
      "outputs": []
    },
    {
      "cell_type": "code",
      "source": [
        "def get_user_input():\n",
        "    topic = input(\"Enter the topic you want to search on WEB: \")\n",
        "    summarize_choice = input(\"Do you want to summarize the data? (yes/no): \").lower()\n",
        "    translate_choice = input(\"Do you want to translate the data? (yes/no): \").lower()\n",
        "    target_language = None\n",
        "    if translate_choice == 'yes':\n",
        "        target_language = input(\"Enter the target language code for translation (e.g., 'hi' for Hindi, 'fr' for French, 'es' for Spanish): \").lower()\n",
        "    return topic, summarize_choice, translate_choice, target_language"
      ],
      "metadata": {
        "id": "BqXuZoUJJm6o"
      },
      "execution_count": null,
      "outputs": []
    },
    {
      "cell_type": "code",
      "source": [
        "def get_wikipedia_data(topic):\n",
        "    try:\n",
        "        print(f\"\\nSearching Wikipedia for: '{topic}'...\")\n",
        "        wiki_summary = wikipedia.summary(topic, sentences=10)\n",
        "        print(\"Wikipedia summary retrieved.\")\n",
        "        return wiki_summary\n",
        "    except wikipedia.exceptions.PageError:\n",
        "        print(f\"Error: Wikipedia page for '{topic}' not found.\")\n",
        "        return None\n",
        "    except wikipedia.exceptions.DisambiguationError as e:\n",
        "        print(f\"Disambiguation Error: '{topic}' could refer to multiple things. Suggestions: {e.options}\")\n",
        "        choice = input(\"Please be more specific or choose one from the suggestions (enter full suggestion): \")\n",
        "        return get_wikipedia_data(choice)\n",
        "    except Exception as e:\n",
        "        print(f\"An unexpected error occurred while fetching Wikipedia data: {e}\")\n",
        "        return None"
      ],
      "metadata": {
        "id": "4g-N2-VeJm85"
      },
      "execution_count": null,
      "outputs": []
    },
    {
      "cell_type": "code",
      "source": [
        "def process_data(text, summarize_choice, translate_choice, target_language):\n",
        "    processed_data = {\"Original Text\": text}\n",
        "\n",
        "    if summarize_choice == 'yes' and summarizer:\n",
        "        print(\"\\nSummarizing data...\")\n",
        "        try:\n",
        "            summary = summarizer(text, min_length=50, max_length=200)[0]['summary_text']\n",
        "            processed_data[\"Summarized Text\"] = summary\n",
        "            print(\"Data summarized.\")\n",
        "        except Exception as e:\n",
        "            print(f\"Error during summarization: {e}\")\n",
        "            processed_data[\"Summarized Text\"] = \"Summarization failed.\"\n",
        "    elif summarize_choice == 'yes' and not summarizer:\n",
        "        processed_data[\"Summarized Text\"] = \"Summarizer model not loaded, skipping summarization.\"\n",
        "\n",
        "    if translate_choice == 'yes' and translator_en_to_target:\n",
        "        print(f\"\\nDetecting language of the original text for translation...\")\n",
        "        try:\n",
        "            detected_lang = detect(text)\n",
        "            print(f\"Detected language: {detected_lang}\")\n",
        "\n",
        "            if detected_lang == 'en':\n",
        "                print(f\"Translating data to {target_language}...\")\n",
        "                try:\n",
        "                    translation_result = translator_en_to_target(text)[0]['translation_text']\n",
        "                    processed_data[f\"Translated Text ({target_language})\"] = translation_result\n",
        "                    print(\"Data translated.\")\n",
        "                except Exception as e:\n",
        "                    print(f\"Error during translation: {e}\")\n",
        "                    processed_data[f\"Translated Text ({target_language})\"] = \"Translation failed.\"\n",
        "            else:\n",
        "                print(f\"Skipping translation: Translator is set for English source, but detected language is {detected_lang}.\")\n",
        "                processed_data[f\"Translated Text ({target_language})\"] = f\"Skipped (source language not English).\"\n",
        "        except LangDetectException as e:\n",
        "            print(f\"Error detecting language: {e}. Skipping translation.\")\n",
        "            processed_data[f\"Translated Text ({target_language})\"] = \"Language detection failed, skipping translation.\"\n",
        "    elif translate_choice == 'yes' and not translator_en_to_target:\n",
        "        processed_data[f\"Translated Text ({target_language})\"] = \"Translation model not loaded, skipping translation.\"\n",
        "\n",
        "    return processed_data"
      ],
      "metadata": {
        "id": "U5H7vYniJm-4"
      },
      "execution_count": null,
      "outputs": []
    },
    {
      "cell_type": "code",
      "source": [
        "def generate_output_file(data, topic):\n",
        "    file_name = f\"{topic.replace(' ', '_')}_data.txt\"\n",
        "    try:\n",
        "        with open(file_name, 'w', encoding='utf-8') as f:\n",
        "            for key, value in data.items():\n",
        "                f.write(f\"--- {key} ---\\n\")\n",
        "                f.write(value + \"\\n\\n\")\n",
        "        print(f\"\\nData successfully saved to '{file_name}'\")\n",
        "    except Exception as e:\n",
        "        print(f\"Error saving data to file: {e}\")\n",
        "\n",
        "    csv_file_name = f\"{topic.replace(' ', '_')}_data.csv\"\n",
        "    try:\n",
        "        df = pd.DataFrame([data])\n",
        "        df.to_csv(csv_file_name, index=False, encoding='utf-8')\n",
        "        print(f\"Data also saved to '{csv_file_name}' as CSV.\")\n",
        "    except Exception as e:\n",
        "        print(f\"Error saving data to CSV: {e}\")"
      ],
      "metadata": {
        "id": "Gt1xuNlEJnBY"
      },
      "execution_count": null,
      "outputs": []
    },
    {
      "cell_type": "code",
      "source": [
        "topic, summarize_choice, translate_choice, target_language = get_user_input()\n",
        "\n",
        "wikipedia_text = get_wikipedia_data(topic)\n",
        "\n",
        "if wikipedia_text:\n",
        "    processed_data = process_data(wikipedia_text, summarize_choice, translate_choice, target_language)\n",
        "    generate_output_file(processed_data, topic)\n",
        "    ig = int(input(\"Would u like to generate a img (0/1): \"))\n",
        "    if ig:\n",
        "      img = gen(topic).images[0]\n",
        "      display(img)\n",
        "    else:\n",
        "\n",
        "      print(\"No image generated\")\n",
        "else:\n",
        "    print(\"No data collected from Wikipedia. Exiting.\")"
      ],
      "metadata": {
        "id": "ix3LBthFGPQc"
      },
      "execution_count": null,
      "outputs": []
    },
    {
      "cell_type": "code",
      "source": [
        "\n",
        "\n",
        "try:\n",
        "    file_to_display = f\"{topic.replace(' ', '_')}_data.txt\"\n",
        "    print(f\"\\n--- Displaying the content of '{file_to_display}' ---\")\n",
        "    print()\n",
        "    with open(file_to_display, 'r', encoding='utf-8') as f:\n",
        "        print(f.read())\n",
        "    print()\n",
        "    print(f\"--- End of file '{file_to_display}' ---\")\n",
        "except NameError:\n",
        "    print(\"The 'topic' variable is not defined. Please run the previous cell first to get the topic.\")\n",
        "except FileNotFoundError:\n",
        "    print(f\"File '{file_to_display}' not found. Make sure you ran the previous cell and it successfully generated the file.\")\n",
        "except Exception as e:\n",
        "    print(f\"An error occurred while displaying the file: {e}\")\n",
        "\n",
        "\n"
      ],
      "metadata": {
        "id": "B4V0pr6IiWNs"
      },
      "execution_count": null,
      "outputs": []
    }
  ]
}